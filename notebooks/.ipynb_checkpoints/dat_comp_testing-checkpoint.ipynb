{
 "cells": [
  {
   "cell_type": "code",
   "execution_count": 1,
   "id": "e33e2d2e",
   "metadata": {},
   "outputs": [],
   "source": [
    "import numpy as np\n",
    "import pandas as pd\n",
    "import matplotlib.pyplot as plt\n",
    "import argparse\n",
    "import re\n",
    "import os \n",
    "import glob"
   ]
  },
  {
   "cell_type": "code",
   "execution_count": 22,
   "id": "74d16bd5",
   "metadata": {},
   "outputs": [
    {
     "data": {
      "text/plain": [
       "'Hit-Details/B0329+54.bary.SE.210707.0000.dat'"
      ]
     },
     "execution_count": 22,
     "metadata": {},
     "output_type": "execute_result"
    }
   ],
   "source": [
    "os.listdir('Hit-Details')\n",
    "\n",
    "ie_datfiles = sorted(glob.glob('Hit-Details/*IE.0000.dat'))\n",
    "se_datfiles = sorted(glob.glob('Hit-Details/*SE.0000.dat'))\n",
    "\n",
    "pulsar_data_ie = glob.glob('Hit-Details/B*')[0]\n",
    "pulsar_data_swe = glob.glob('Hit-Details/B*')[1]"
   ]
  },
  {
   "cell_type": "code",
   "execution_count": 6,
   "id": "668c8ec3",
   "metadata": {},
   "outputs": [
    {
     "name": "stdout",
     "output_type": "stream",
     "text": [
      "Inputted SNR threshold: 10 Type: <class 'int'>\n"
     ]
    }
   ],
   "source": [
    "snr_thresh = 10 \n",
    "\n",
    "# print('Irish file path:', ie_dat)\n",
    "# print('Swedish file path:', se_dat)\n",
    "print('Inputted SNR threshold:', np.array(snr_thresh), 'Type:', type(snr_thresh))\n",
    "\n",
    "def read_dat(filename):\n",
    "    r\"\"\"\n",
    "    Read a turboseti .dat file.\n",
    "    Parameters\n",
    "    ----------\n",
    "    filename : str\n",
    "        Name of .dat file to open.\n",
    "    Returns\n",
    "    -------\n",
    "    df_data : dict\n",
    "        Pandas dataframe of hits.\n",
    "    \"\"\"\n",
    "    file_dat = open(filename.strip())\n",
    "    hits = file_dat.readlines()\n",
    "\n",
    "    # Get info from the .dat file header\n",
    "    FileID = hits[1].strip().split(':')[-1].strip()\n",
    "    Source = hits[3].strip().split(':')[-1].strip()\n",
    "\n",
    "    MJD = hits[4].strip().split('\\t')[0].split(':')[-1].strip()\n",
    "    RA = hits[4].strip().split('\\t')[1].split(':')[-1].strip()\n",
    "    DEC = hits[4].strip().split('\\t')[2].split(':')[-1].strip()\n",
    "\n",
    "    DELTAT = hits[5].strip().split('\\t')[0].split(':')[-1].strip()  # s\n",
    "    DELTAF = hits[5].strip().split('\\t')[1].split(':')[-1].strip()  # Hz\n",
    "\n",
    "    # Get info from individual hits (the body of the .dat file)\n",
    "    all_hits = []\n",
    "    for hit_line in hits[9:]:\n",
    "        hit_fields = re.split(r'\\s+', re.sub(r'[\\t]', ' ', hit_line).strip())\n",
    "        all_hits.append(hit_fields)\n",
    "\n",
    "    # Now reorganize that info to be grouped by column (parameter)\n",
    "    # not row (individual hit)\n",
    "    if all_hits:\n",
    "        TopHitNum = list(zip(*all_hits))[0]\n",
    "        DriftRate = [float(df) for df in list(zip(*all_hits))[1]]\n",
    "        SNR = [float(ss) for ss in list(zip(*all_hits))[2]]\n",
    "        Freq = [float(ff) for ff in list(zip(*all_hits))[3]]\n",
    "        ChanIndx = list(zip(*all_hits))[5]\n",
    "        FreqStart = list(zip(*all_hits))[6]\n",
    "        FreqEnd = list(zip(*all_hits))[7]\n",
    "        CoarseChanNum = list(zip(*all_hits))[10]\n",
    "        FullNumHitsInRange = list(zip(*all_hits))[11]\n",
    "\n",
    "        data = {'TopHitNum': TopHitNum,\n",
    "                'DriftRate': DriftRate,\n",
    "                'SNR': SNR,\n",
    "                'Freq': Freq,\n",
    "                'ChanIndx': ChanIndx,\n",
    "                'FreqStart': FreqStart,\n",
    "                'FreqEnd': FreqEnd,\n",
    "                'CoarseChanNum': CoarseChanNum,\n",
    "                'FullNumHitsInRange': FullNumHitsInRange\n",
    "                }\n",
    "\n",
    "        # Creating pandas dataframe from data we just read in\n",
    "        df_data = pd.DataFrame(data)\n",
    "        df_data = df_data.apply(pd.to_numeric)\n",
    "\n",
    "    else:\n",
    "        df_data = pd.DataFrame()\n",
    "\n",
    "    # Matching column information from before to the .dat data we read in\n",
    "    df_data['FileID'] = FileID\n",
    "    df_data['Source'] = Source.upper()\n",
    "    df_data['MJD'] = MJD\n",
    "    df_data['RA'] = RA\n",
    "    df_data['DEC'] = DEC\n",
    "    df_data['DELTAT'] = DELTAT\n",
    "    df_data['DELTAF'] = DELTAF\n",
    "\n",
    "    # Adding extra columns that will be filled out by this program\n",
    "    df_data['Hit_ID'] = ''\n",
    "    df_data['status'] = ''\n",
    "    df_data['in_n_ons'] = ''\n",
    "    df_data['RFI_in_range'] = ''\n",
    "\n",
    "    return df_data"
   ]
  },
  {
   "cell_type": "code",
   "execution_count": 23,
   "id": "3e534515",
   "metadata": {},
   "outputs": [],
   "source": [
    "def TIC_comparison_script(ie_filenames, se_filenames):\n",
    "    target_list = []; irish_hits = []; swedish_hits = []; mhits_array = []\n",
    "\n",
    "    for file_idx in range(0, len(ie_filenames)): # cycling through each target \n",
    "        ie_dat = ie_filenames[file_idx]; se_dat = se_filenames[file_idx]\n",
    "\n",
    "        ie_TIC_name = ie_dat.split('/')[1].split('.')[0] # - extracting target name from fname string \n",
    "        se_TIC_name = se_dat.split('/')[1].split('.')[0]\n",
    "\n",
    "        if ie_TIC_name == se_TIC_name: # - ensuring that the target files at each station are the same. \n",
    "            df_ie = read_dat('./'+ie_dat)\n",
    "            df_se = read_dat('./'+se_dat)\n",
    "        else: \n",
    "            print('TIC target is not the same.')\n",
    "\n",
    "        ie_hit_n = len(df_ie); se_hit_n = len(df_se) # - Reading the hit amounts. \n",
    "        irish_hits.append(ie_hit_n); swedish_hits.append(se_hit_n); target_list.append(ie_TIC_name[3:len(ie_TIC_name)])\n",
    "        print('--- \\n Target: %s \\n Irish Hits: %s \\n Swedish Hits: %s' % (ie_TIC_name, ie_hit_n, se_hit_n))\n",
    "\n",
    "        # - Parameter limits for accepting a hit as mutual - \n",
    "        dr = 0.1 #Hz/s\n",
    "        df = 4 #Hz\n",
    "\n",
    "        hit_matches = []\n",
    "\n",
    "        for ind in df_ie.index:\n",
    "            hit_num = df_ie['TopHitNum'][ind]\n",
    "            frequency = df_ie['Freq'][ind] * 1e6 # - Converting from MHz to Hz \n",
    "            drift_rate = df_ie['DriftRate'][ind]\n",
    "            sigma = df_ie['SNR'][ind]\n",
    "\n",
    "            for ind_s in df_se.index: # - compare each Swedish hit to the Irish hit \n",
    "                hit_num_se = df_se['TopHitNum'][ind_s] # \n",
    "                frequency_se = df_se['Freq'][ind_s] *1e6\n",
    "                drift_rate_se = df_se['DriftRate'][ind_s]\n",
    "                sigma_se = df_se['SNR'][ind_s]\n",
    "                # if sigma < snr_thresh: # - Only looks at values below a certain SNR. \n",
    "                # \tif sigma_se < snr_thresh:\n",
    "                if frequency - df <= frequency_se <= frequency + df:\n",
    "                    if drift_rate - dr <= drift_rate_se <= drift_rate +dr:\n",
    "                        hit_matches.append('IE'+str(hit_num)+'_SE'+str(hit_num_se))\n",
    "                        print('Hit Numbers: IR ', ind, 'SE ', ind_s)\n",
    "                        print('IE Freq: ',frequency, 'SE Freq: ', frequency_se)\n",
    "                        print('IE D_rate:', drift_rate, 'SE D_rate: ', drift_rate_se)\n",
    "        if len(hit_matches) > 0:\n",
    "            mutual_hits = len(hit_matches)\n",
    "        else: \n",
    "            mutual_hits = 0 \n",
    "        mhits_array.append(mhits_array)\n",
    "\n",
    "    body_data = {'TIC_ID':target_list, 'SE_Hits':swedish_hits, 'IE_Hits':irish_hits, 'Mutual_Hits':mutual_hits}\n",
    "    df = pd.DataFrame(data=body_data)\n",
    "\n",
    "    df.to_csv('hits_overview.csv')\n",
    "    print('Mean Irish Hits: %s \\nMean Swedish Hits: %s' % (df['IE_Hits'].mean(), df['SE_Hits'].mean()))\n",
    "\n",
    "    df.head()"
   ]
  },
  {
   "cell_type": "markdown",
   "id": "8486493b",
   "metadata": {},
   "source": [
    "# Pulsar Comparison Test"
   ]
  },
  {
   "cell_type": "code",
   "execution_count": 33,
   "id": "91c796ac",
   "metadata": {},
   "outputs": [],
   "source": [
    "def pulsar_comparison_script(ie_filenames, se_filenames):\n",
    "    target_list = []; irish_hits = []; swedish_hits = []; mhits_array = []\n",
    "\n",
    "    for file_idx in range(0, len(ie_filenames)): # cycling through each target \n",
    "        ie_dat = ie_filenames[file_idx]; se_dat = se_filenames[file_idx]\n",
    "\n",
    "        ie_TIC_name = ie_dat.split('/')[1].split('.')[0] # - extracting target name from fname string \n",
    "        se_TIC_name = se_dat.split('/')[1].split('.')[0]\n",
    "\n",
    "        if ie_TIC_name == se_TIC_name: # - ensuring that the target files at each station are the same. \n",
    "            df_ie = read_dat('./'+ie_dat)\n",
    "            df_se = read_dat('./'+se_dat)\n",
    "        else: \n",
    "            print('TIC target is not the same.')\n",
    "\n",
    "        ie_hit_n = len(df_ie); se_hit_n = len(df_se) # - Reading the hit amounts. \n",
    "        irish_hits.append(ie_hit_n); swedish_hits.append(se_hit_n); target_list.append(ie_TIC_name[3:len(ie_TIC_name)])\n",
    "        print('--- \\n Target: %s \\n Irish Hits: %s \\n Swedish Hits: %s' % (ie_TIC_name, ie_hit_n, se_hit_n))\n",
    "\n",
    "        # - Parameter limits for accepting a hit as mutual - \n",
    "        dr = 0.2 #Hz/s\n",
    "        df = 5 #Hz\n",
    "\n",
    "        hit_matches = []\n",
    "\n",
    "        for ind in df_ie.index:\n",
    "            hit_num = df_ie['TopHitNum'][ind]\n",
    "            frequency = df_ie['Freq'][ind] * 1e6 # - Converting from MHz to Hz \n",
    "            drift_rate = df_ie['DriftRate'][ind]\n",
    "            sigma = df_ie['SNR'][ind]\n",
    "\n",
    "            for ind_s in df_se.index: # - compare each Swedish hit to the Irish hit \n",
    "                hit_num_se = df_se['TopHitNum'][ind_s] # \n",
    "                frequency_se = df_se['Freq'][ind_s] *1e6\n",
    "                drift_rate_se = df_se['DriftRate'][ind_s]\n",
    "                sigma_se = df_se['SNR'][ind_s]\n",
    "                # if sigma < snr_thresh: # - Only looks at values below a certain SNR. \n",
    "                # \tif sigma_se < snr_thresh:\n",
    "                if frequency - df <= frequency_se <= frequency + df:\n",
    "                    if drift_rate - dr <= drift_rate_se <= drift_rate +dr:\n",
    "                        hit_matches.append('IE'+str(hit_num)+'_SE'+str(hit_num_se))\n",
    "                        print('Hit Numbers: IR ', ind, 'SE ', ind_s)\n",
    "                        print('IE Freq: ',frequency, 'SE Freq: ', frequency_se)\n",
    "                        print('IE D_rate:', drift_rate, 'SE D_rate: ', drift_rate_se)\n",
    "        if len(hit_matches) > 0:\n",
    "            mutual_hits = len(hit_matches)\n",
    "        else: \n",
    "            mutual_hits = 0 \n",
    "        mhits_array.append(mhits_array)\n",
    "\n",
    "    body_data = {'TIC_ID':target_list, 'SE_Hits':swedish_hits, 'IE_Hits':irish_hits, 'Mutual_Hits':mutual_hits}\n",
    "    df = pd.DataFrame(data=body_data)\n",
    "\n",
    "    df.to_csv('hits_overview.csv')\n",
    "    print('Mean Irish Hits: %s \\nMean Swedish Hits: %s' % (df['IE_Hits'].mean(), df['SE_Hits'].mean()))\n",
    "\n",
    "    df.head()"
   ]
  },
  {
   "cell_type": "code",
   "execution_count": 34,
   "id": "0de6893e",
   "metadata": {
    "scrolled": true
   },
   "outputs": [
    {
     "name": "stdout",
     "output_type": "stream",
     "text": [
      "--- \n",
      " Target: B0329+54 \n",
      " Irish Hits: 222 \n",
      " Swedish Hits: 113\n",
      "Mean Irish Hits: 222.0 \n",
      "Mean Swedish Hits: 113.0\n"
     ]
    }
   ],
   "source": [
    "ie = ['Hit-Details/B0329+54.bary.IE.210707.0000.dat']; se = ['Hit-Details/B0329+54.bary.SE.210707.0000.dat']\n",
    "pulsar_comparison_script(ie, se)"
   ]
  },
  {
   "cell_type": "code",
   "execution_count": 31,
   "id": "500b1154",
   "metadata": {},
   "outputs": [
    {
     "data": {
      "text/plain": [
       "'B0329+54'"
      ]
     },
     "execution_count": 31,
     "metadata": {},
     "output_type": "execute_result"
    }
   ],
   "source": []
  }
 ],
 "metadata": {
  "kernelspec": {
   "display_name": "Python 3",
   "language": "python",
   "name": "python3"
  },
  "language_info": {
   "codemirror_mode": {
    "name": "ipython",
    "version": 3
   },
   "file_extension": ".py",
   "mimetype": "text/x-python",
   "name": "python",
   "nbconvert_exporter": "python",
   "pygments_lexer": "ipython3",
   "version": "3.7.11"
  },
  "vscode": {
   "interpreter": {
    "hash": "4788a04675287cc89065b99e2c40ea29bee2dc0954410f0c7b66dfd876b2f1ad"
   }
  }
 },
 "nbformat": 4,
 "nbformat_minor": 5
}
